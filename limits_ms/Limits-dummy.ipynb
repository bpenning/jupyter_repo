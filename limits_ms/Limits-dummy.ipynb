{
 "cells": [
  {
   "cell_type": "code",
   "execution_count": 1,
   "metadata": {
    "collapsed": true
   },
   "outputs": [],
   "source": [
    "from scipy import interpolate\n",
    "import numpy as np\n",
    "import matplotlib.pyplot as plt\n",
    "import matplotlib.mlab as mlab\n",
    "import matplotlib.colors as mcol\n",
    "\n",
    "%matplotlib inline"
   ]
  },
  {
   "cell_type": "code",
   "execution_count": 2,
   "metadata": {
    "collapsed": true
   },
   "outputs": [],
   "source": [
    "exp = np.array([\n",
    " [1.0, 1.0, 2.3203125],\n",
    "[1.0, 2.0, 0.93359375],\n",
    "[1.0, 3.0, 0.580078125],\n",
    "[2.0, 1.0, 1.55078125],\n",
    "[2.0, 2.0, 0.775390625],\n",
    "[2.0, 3.0, 0.517578125],\n",
    "[3.0, 1.0, 1.16015625],\n",
    "[3.0, 2.0, 0.666015625],\n",
    "[3.0, 3.0, 0.466796875]\n",
    "]\n",
    "               )"
   ]
  },
  {
   "cell_type": "code",
   "execution_count": 3,
   "metadata": {
    "collapsed": true
   },
   "outputs": [],
   "source": [
    "def interp(data, method='linear'):\n",
    "    x = data[:,0]\n",
    "    y = data[:,1]\n",
    "    z = data[:,2]\n",
    "    \n",
    "    xi = np.linspace(x.min(), x.max(), 1000)\n",
    "    yi = np.linspace(y.min(), y.max(), 1000)\n",
    "    zi = mlab.griddata(x, y, z, xi, yi, interp=method)\n",
    "    \n",
    "    return xi, yi, zi"
   ]
  },
  {
   "cell_type": "code",
   "execution_count": 4,
   "metadata": {
    "collapsed": true
   },
   "outputs": [],
   "source": [
    "def interp2(data, method='linear'):\n",
    "    x = data[:,0]\n",
    "    y = data[:,1]\n",
    "    z = data[:,2]\n",
    "    \n",
    "    xi = np.linspace(x.min(), x.max(), 1000)\n",
    "    yi = np.linspace(y.min(), y.max(), 1000)\n",
    "    xi, yi = np.meshgrid(xi,yi)\n",
    "    zi = interpolate.griddata((x, y), z, (xi, yi), method=method)\n",
    "    \n",
    "    return xi, yi, zi"
   ]
  },
  {
   "cell_type": "code",
   "execution_count": 5,
   "metadata": {
    "collapsed": true
   },
   "outputs": [],
   "source": [
    "def interp3(data, method='linear'):\n",
    "    x = data[:,0]\n",
    "    y = data[:,1]\n",
    "    z = data[:,2]\n",
    "    \n",
    "    xi = np.linspace(x.min(), x.max(), 1000)\n",
    "    yi = np.linspace(y.min(), y.max(), 1000)\n",
    "    xi, yi = np.meshgrid(xi,yi)\n",
    "    zi = interpolate.LinearNDInterpolator(x, y, z, method=method)(xi, yi)\n",
    "    \n",
    "    return xi, yi, zi"
   ]
  },
  {
   "cell_type": "code",
   "execution_count": 6,
   "metadata": {
    "collapsed": true
   },
   "outputs": [],
   "source": [
    "stops = [0.0000, 0.1250, 0.2500, 0.3750, 0.5000, 0.6250, 0.7500, 0.8750, 1.0000]\n",
    "red   = [0.2082, 0.0592, 0.0780, 0.0232, 0.1802, 0.5301, 0.8186, 0.9956, 0.9764]\n",
    "green = [0.1664, 0.3599, 0.5041, 0.6419, 0.7178, 0.7492, 0.7328, 0.7862, 0.9832]\n",
    "blue  = [0.5293, 0.8684, 0.8385, 0.7914, 0.6425, 0.4662, 0.3499, 0.1968, 0.0539]\n",
    "\n",
    "ered = []\n",
    "egreen = []\n",
    "eblue = []\n",
    "for i, stop in enumerate(stops):\n",
    "    if i is 0:\n",
    "        ered.append( (stop, 0., red[i]) )\n",
    "        egreen.append( (stop, 0., green[i]) )\n",
    "        eblue.append( (stop, 0., blue[i]) )\n",
    "    elif i is len(stops)-1:\n",
    "        ered.append( (stop, red[i], 1.) )\n",
    "        egreen.append( (stop, green[i], 1.) )\n",
    "        eblue.append( (stop, blue[i], 1.) )\n",
    "    else:\n",
    "        ered.append( (stop, red[i], red[i]) )\n",
    "        egreen.append( (stop, green[i], green[i]) )\n",
    "        eblue.append( (stop, blue[i], blue[i]) )\n",
    "cdict = {'red': ered, 'green': egreen, 'blue': eblue}\n",
    "\n",
    "bird = mcol.LinearSegmentedColormap('bird', cdict)"
   ]
  },
  {
   "cell_type": "code",
   "execution_count": 7,
   "metadata": {
    "collapsed": true
   },
   "outputs": [],
   "source": [
    "stops = [0.0000, 0.1250, 0.2500, 0.3750, 0.5000, 0.6250, 0.7500, 0.8750, 1.0000]\n",
    "red   = [0.2082, 0.0592, 0.0780, 0.0232, 0.1802, 0.5301, 0.8186, 0.9956, 0.9764]\n",
    "green = [0.1664, 0.3599, 0.5041, 0.6419, 0.7178, 0.7492, 0.7328, 0.7862, 0.9832]\n",
    "blue  = [0.5293, 0.8684, 0.8385, 0.7914, 0.6425, 0.4662, 0.3499, 0.1968, 0.0539]\n",
    "\n",
    "ered = []\n",
    "egreen = []\n",
    "eblue = []\n",
    "for i, stop in enumerate(stops):\n",
    "    if i is 0:\n",
    "        ered.append( (stop, 0., red[i]) )\n",
    "        egreen.append( (stop, 0., green[i]) )\n",
    "        eblue.append( (stop, 0., blue[i]) )\n",
    "    elif i is len(stops)-1:\n",
    "        ered.append( (stop, red[i], 1.) )\n",
    "        egreen.append( (stop, green[i], 1.) )\n",
    "        eblue.append( (stop, blue[i], 1.) )\n",
    "    else:\n",
    "        ered.append( (stop, red[i], red[i]) )\n",
    "        egreen.append( (stop, green[i], green[i]) )\n",
    "        eblue.append( (stop, blue[i], blue[i]) )\n",
    "cdict = {'red': ered, 'green': egreen, 'blue': eblue}\n",
    "\n",
    "bird = mcol.LinearSegmentedColormap('bird', cdict)"
   ]
  },
  {
   "cell_type": "code",
   "execution_count": 9,
   "metadata": {},
   "outputs": [
    {
     "data": {
      "image/png": "[encoded data removed]",
      "text/plain": [
       "<matplotlib.figure.Figure at 0x11fac2c10>"
      ]
     },
     "metadata": {},
     "output_type": "display_data"
    }
   ],
   "source": [
    "#xi, yi, zi = interp2(exp, 'cubic')\n",
    "#plt.contour(xi, yi, zi, [1.0], colors='k')\n",
    "#plt.contourf(xi, yi, zi, 200, cmap=bird)\n",
    "#plt.colorbar()\n",
    "\n",
    "\n",
    "#plt.title('ms_50, cubic interpolation')\n",
    "#plt.show()\n",
    "\n",
    "xi, yi, zi = interp2(exp, 'linear')\n",
    "plt.contour(xi, yi, zi, [1.0], colors='k')\n",
    "plt.contourf(xi, yi, zi, 300,cmap=bird)\n",
    "plt.colorbar()\n",
    "\n",
    "plt.title('mHs_50')\n",
    "plt.ylabel('X')\n",
    "plt.xlabel('Y')\n",
    "#plt.xlim([0,20])\n",
    "plt.show()"
   ]
  },
  {
   "cell_type": "code",
   "execution_count": null,
   "metadata": {
    "collapsed": true
   },
   "outputs": [],
   "source": []
  }
 ],
 "metadata": {
  "kernelspec": {
   "display_name": "Python 2",
   "language": "python",
   "name": "python2"
  },
  "language_info": {
   "codemirror_mode": {
    "name": "ipython",
    "version": 2
   },
   "file_extension": ".py",
   "mimetype": "text/x-python",
   "name": "python",
   "nbconvert_exporter": "python",
   "pygments_lexer": "ipython2",
   "version": "2.7.13"
  }
 },
 "nbformat": 4,
 "nbformat_minor": 1
}
