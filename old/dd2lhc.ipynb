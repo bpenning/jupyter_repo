{
 "cells": [
  {
   "cell_type": "code",
   "execution_count": 1,
   "metadata": {
    "collapsed": true
   },
   "outputs": [],
   "source": [
    "import pandas as pd\n",
    "import math\n",
    "import os\n",
    "import numpy as np\n",
    "from glob import glob"
   ]
  },
  {
   "cell_type": "code",
   "execution_count": 2,
   "metadata": {
    "scrolled": true
   },
   "outputs": [
    {
     "data": {
      "image/png": "[encoded data removed]",
      "text/plain": [
       "<matplotlib.figure.Figure at 0x1137e4950>"
      ]
     },
     "metadata": {},
     "output_type": "display_data"
    }
   ],
   "source": [
    "# whole bunch of defintions\n",
    "gDM = 1.\n",
    "gu = gd = gs = 0.25  # set to DM LHC WG recommendations\n",
    "mn, conv_units = 0.938, 2.568 * pow(10., 27.)\n",
    "Delta_d_p, Delta_u_p, Delta_s_p = -0.42, 0.85, -0.08\n",
    "\n",
    "DATA_LOCATION = 'data/'\n",
    "DATA_FILE_EXT = ''\n",
    "\n",
    "\n",
    "\n",
    "\n",
    "def dataset_names():\n",
    "    datasets = glob('data/*.dat')\n",
    "    for dataset in datasets:\n",
    "        dataset = dataset.replace(DATA_LOCATION, '')\n",
    "        dataset = dataset.replace(DATA_FILE_EXT, '')\n",
    "        yield dataset\n",
    "\n",
    "def get_datasets():\n",
    "    return list(dataset_names())\n",
    "\n",
    "\n",
    "\n",
    "def dd2lhc(df):\n",
    "    gu = gd = gs = 0.25  \n",
    "    f = abs(gDM * (gu * Delta_u_p + gd * Delta_d_p + gs * Delta_s_p))  #for p\n",
    "#    f = abs(gDM * (gu * Delta_u_n + gd * Delta_d_n + gs * Delta_s_n))  #for n\n",
    "\n",
    "\n",
    "    # calculate mu\n",
    "    df['mu_nDM'] = mn * df['m_DM'] / (mn + df['m_DM'])\n",
    "    # apply conversion units to sigma\n",
    "    df['sigma'] = df['sigma'] * conv_units\n",
    "    df['sigma_in_GeV'] = df['sigma']\n",
    "\n",
    "    # calculate m_mediator\n",
    "    df['m_med'] = np.power(f * df['mu_nDM'], 0.5) / np.power(math.pi * df['sigma'] / 3., 0.25)\n",
    "\n",
    "def lhc2dd(df):\n",
    "    gu = gd = gs = 0.25\n",
    "    f = abs(gDM * (gu * Delta_u_p + gd * Delta_d_p + gs * Delta_s_p))  #for p\n",
    "    # calculate mu\n",
    "    df['mu_nDM'] = mn * df['m_DM'] / (mn + df['m_DM'])\n",
    "\n",
    "    # apply conversion units to sigma\n",
    "    df['sigma_in_GeV'] = 3 * np.power(f * df['mu_nDM'], 2.) / (math.pi * np.power(df['m_med'], 4.))\n",
    "    df['sigma'] = df['sigma_in_GeV']/conv_units\n",
    "\n",
    "\n",
    "\n",
    "def get_data(dataset='PICOSD_p'):\n",
    "    dataset_type = 'DD'\n",
    "    if dataset in ['DD_2_LHC_n', 'DD_2_LHC_p', 'mMedmDM1', 'mMedmDM2']:\n",
    "        dataset_type = 'LHC'\n",
    "    input_file = os.path.join(DATA_LOCATION, dataset + DATA_FILE_EXT)\n",
    "\n",
    "    names = ['m_DM', 'sigma']\n",
    "    if dataset_type == 'LHC':\n",
    "        names = ['m_med', 'm_DM']\n",
    "    df = pd.read_csv(input_file, delim_whitespace=True,\n",
    "                     names=names)\n",
    "    label = os.path.basename(input_file).split('.')[0]\n",
    "    df.insert(0, 'label', label)\n",
    "    if dataset_type == 'DD':\n",
    "        dd2lhc(df)\n",
    "    elif dataset_type == 'LHC':\n",
    "        lhc2dd(df)\n",
    "    # # apply conversion units to sigma\n",
    "    # df['sigma'] = df['sigma'] * conv_units\n",
    "    # # calculate mu\n",
    "    # df['mu_nDM'] = mn * df['m_DM'] / (mn + df['m_DM'])\n",
    "    # # calculate m_mediator\n",
    "    # df['m_med'] = pow(f * df['mu_nDM'], 0.5) / \\\n",
    "    #     pow(math.pi * df['sigma'] / 3., 0.25)\n",
    "    return df\n",
    "\n",
    "\n",
    "def get_figure(df):\n",
    "    import matplotlib.pyplot as plt\n",
    "    plt.style.use('ggplot')\n",
    "    fig = plt.figure(figsize=(6.5875, 6.2125))\n",
    "    ax = fig.add_subplot(111)\n",
    "    ax.set_title(\"DD2LHC Pico (p, axial)\")\n",
    "    ax.set_xlabel(r'$m_{Med}$')\n",
    "    ax.set_ylabel(r'$m_{DM}$')\n",
    "    ax.semilogy(df['m_med'], df['m_DM'], color='red')\n",
    "    plt.show()\n",
    "    fig.savefig('pico2plane2.png')\n",
    "    return fig\n",
    "   \n",
    "if __name__ == '__main__':\n",
    "    df = get_data('LHC_2_DD_p.dat')\n",
    "    #print df\n",
    "    get_figure(df)"
   ]
  },
  {
   "cell_type": "code",
   "execution_count": null,
   "metadata": {
    "collapsed": true
   },
   "outputs": [],
   "source": []
  }
 ],
 "metadata": {
  "kernelspec": {
   "display_name": "Python 2",
   "language": "python",
   "name": "python2"
  },
  "language_info": {
   "codemirror_mode": {
    "name": "ipython",
    "version": 2
   },
   "file_extension": ".py",
   "mimetype": "text/x-python",
   "name": "python",
   "nbconvert_exporter": "python",
   "pygments_lexer": "ipython2",
   "version": "2.7.13"
  }
 },
 "nbformat": 4,
 "nbformat_minor": 2
}
